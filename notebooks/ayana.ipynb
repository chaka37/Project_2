{
 "cells": [
  {
   "cell_type": "code",
   "execution_count": 304,
   "metadata": {},
   "outputs": [],
   "source": [
    "import pandas as pd\n",
    "import numpy as np\n",
    "from pathlib import Path\n",
    "import hvplot.pandas\n",
    "import matplotlib.pyplot as plt\n",
    "import os\n",
    "import requests\n",
    "from dotenv import load_dotenv\n",
    "import alpaca_trade_api as tradeapi\n",
    "from alpaca_trade_api.rest import REST, TimeFrame\n"
   ]
  },
  {
   "cell_type": "code",
   "execution_count": 305,
   "metadata": {},
   "outputs": [
    {
     "data": {
      "text/plain": [
       "True"
      ]
     },
     "execution_count": 305,
     "metadata": {},
     "output_type": "execute_result"
    }
   ],
   "source": [
    "# Load .env environment variables\n",
    "load_dotenv()"
   ]
  },
  {
   "cell_type": "code",
   "execution_count": 306,
   "metadata": {},
   "outputs": [],
   "source": [
    "# Set Alpaca API key and secret\n",
    "alpaca_api_key = os.getenv(\"ALPACA_API_KEY\")\n",
    "alpaca_secret_key = os.getenv(\"ALPACA_SECRET_KEY\")"
   ]
  },
  {
   "cell_type": "code",
   "execution_count": 307,
   "metadata": {},
   "outputs": [
    {
     "name": "stdout",
     "output_type": "stream",
     "text": [
      "Alpaca Key type: <class 'str'>\n",
      "Alpaca Secret Key type: <class 'str'>\n"
     ]
    }
   ],
   "source": [
    "print(f\"Alpaca Key type: {type(alpaca_api_key)}\")\n",
    "print(f\"Alpaca Secret Key type: {type(alpaca_secret_key)}\")"
   ]
  },
  {
   "cell_type": "code",
   "execution_count": 308,
   "metadata": {},
   "outputs": [],
   "source": [
    "# Create the Alpaca API object\n",
    "alpaca = tradeapi.REST(\n",
    "    alpaca_api_key,\n",
    "    alpaca_secret_key,\n",
    "    api_version=\"v2\")"
   ]
  },
  {
   "cell_type": "code",
   "execution_count": 309,
   "metadata": {},
   "outputs": [],
   "source": [
    "# create a function to pull stock data from the alpaca api\n",
    "def get_company(ticker, start, end, tradeapi):\n",
    "    return alpaca.get_bars(\n",
    "        ticker,\n",
    "        TimeFrame.Day,\n",
    "        start,\n",
    "        end\n",
    "    ).df"
   ]
  },
  {
   "cell_type": "code",
   "execution_count": 310,
   "metadata": {},
   "outputs": [],
   "source": [
    "# Set your ticker and format start and end dates in iso format\n",
    "# Set dates to pull 5 years of data\n",
    "msft_ticker = [\"MSFT\"]\n",
    "start= pd.Timestamp(\"2017-06-01\", tz=\"America/New_York\").isoformat()\n",
    "end= pd.Timestamp(\"2022-06-01\", tz=\"America/New_York\").isoformat()"
   ]
  },
  {
   "cell_type": "code",
   "execution_count": 311,
   "metadata": {},
   "outputs": [
    {
     "data": {
      "text/html": [
       "<div>\n",
       "<style scoped>\n",
       "    .dataframe tbody tr th:only-of-type {\n",
       "        vertical-align: middle;\n",
       "    }\n",
       "\n",
       "    .dataframe tbody tr th {\n",
       "        vertical-align: top;\n",
       "    }\n",
       "\n",
       "    .dataframe thead th {\n",
       "        text-align: right;\n",
       "    }\n",
       "</style>\n",
       "<table border=\"1\" class=\"dataframe\">\n",
       "  <thead>\n",
       "    <tr style=\"text-align: right;\">\n",
       "      <th></th>\n",
       "      <th>open</th>\n",
       "      <th>high</th>\n",
       "      <th>low</th>\n",
       "      <th>close</th>\n",
       "      <th>volume</th>\n",
       "    </tr>\n",
       "    <tr>\n",
       "      <th>timestamp</th>\n",
       "      <th></th>\n",
       "      <th></th>\n",
       "      <th></th>\n",
       "      <th></th>\n",
       "      <th></th>\n",
       "    </tr>\n",
       "  </thead>\n",
       "  <tbody>\n",
       "    <tr>\n",
       "      <th>2017-06-30 00:00:00+00:00</th>\n",
       "      <td>70.589091</td>\n",
       "      <td>71.014600</td>\n",
       "      <td>69.835727</td>\n",
       "      <td>70.518182</td>\n",
       "      <td>2.876127e+07</td>\n",
       "    </tr>\n",
       "    <tr>\n",
       "      <th>2017-07-31 00:00:00+00:00</th>\n",
       "      <td>71.841000</td>\n",
       "      <td>75.105495</td>\n",
       "      <td>69.496500</td>\n",
       "      <td>72.010500</td>\n",
       "      <td>2.349984e+07</td>\n",
       "    </tr>\n",
       "    <tr>\n",
       "      <th>2017-08-31 00:00:00+00:00</th>\n",
       "      <td>72.709565</td>\n",
       "      <td>73.196083</td>\n",
       "      <td>72.285187</td>\n",
       "      <td>72.816957</td>\n",
       "      <td>1.932927e+07</td>\n",
       "    </tr>\n",
       "    <tr>\n",
       "      <th>2017-09-30 00:00:00+00:00</th>\n",
       "      <td>74.375500</td>\n",
       "      <td>74.786000</td>\n",
       "      <td>73.891000</td>\n",
       "      <td>74.344500</td>\n",
       "      <td>1.885708e+07</td>\n",
       "    </tr>\n",
       "    <tr>\n",
       "      <th>2017-10-31 00:00:00+00:00</th>\n",
       "      <td>77.876818</td>\n",
       "      <td>78.349318</td>\n",
       "      <td>77.529773</td>\n",
       "      <td>77.939545</td>\n",
       "      <td>2.053351e+07</td>\n",
       "    </tr>\n",
       "  </tbody>\n",
       "</table>\n",
       "</div>"
      ],
      "text/plain": [
       "                                open       high        low      close  \\\n",
       "timestamp                                                               \n",
       "2017-06-30 00:00:00+00:00  70.589091  71.014600  69.835727  70.518182   \n",
       "2017-07-31 00:00:00+00:00  71.841000  75.105495  69.496500  72.010500   \n",
       "2017-08-31 00:00:00+00:00  72.709565  73.196083  72.285187  72.816957   \n",
       "2017-09-30 00:00:00+00:00  74.375500  74.786000  73.891000  74.344500   \n",
       "2017-10-31 00:00:00+00:00  77.876818  78.349318  77.529773  77.939545   \n",
       "\n",
       "                                 volume  \n",
       "timestamp                                \n",
       "2017-06-30 00:00:00+00:00  2.876127e+07  \n",
       "2017-07-31 00:00:00+00:00  2.349984e+07  \n",
       "2017-08-31 00:00:00+00:00  1.932927e+07  \n",
       "2017-09-30 00:00:00+00:00  1.885708e+07  \n",
       "2017-10-31 00:00:00+00:00  2.053351e+07  "
      ]
     },
     "execution_count": 311,
     "metadata": {},
     "output_type": "execute_result"
    }
   ],
   "source": [
    "# Get stock data for Microsoft\n",
    "msft_df = get_company(msft_ticker, start, end, tradeapi)\n",
    "\n",
    "# Drop columns that we will not need\n",
    "msft_df= msft_df.drop([\"trade_count\", \"vwap\"], axis=1)\n",
    "\n",
    "# Resample the data to show monthly average\n",
    "msft_mnth_df = pd.DataFrame(msft_df.resample(\"M\").mean())\n",
    "\n",
    "# Show microsoft stock data\n",
    "\n",
    "msft_mnth_df.head()"
   ]
  },
  {
   "cell_type": "code",
   "execution_count": 312,
   "metadata": {},
   "outputs": [
    {
     "data": {
      "text/html": [
       "<div>\n",
       "<style scoped>\n",
       "    .dataframe tbody tr th:only-of-type {\n",
       "        vertical-align: middle;\n",
       "    }\n",
       "\n",
       "    .dataframe tbody tr th {\n",
       "        vertical-align: top;\n",
       "    }\n",
       "\n",
       "    .dataframe thead th {\n",
       "        text-align: right;\n",
       "    }\n",
       "</style>\n",
       "<table border=\"1\" class=\"dataframe\">\n",
       "  <thead>\n",
       "    <tr style=\"text-align: right;\">\n",
       "      <th></th>\n",
       "      <th>close</th>\n",
       "      <th>Actual Returns</th>\n",
       "    </tr>\n",
       "    <tr>\n",
       "      <th>timestamp</th>\n",
       "      <th></th>\n",
       "      <th></th>\n",
       "    </tr>\n",
       "  </thead>\n",
       "  <tbody>\n",
       "    <tr>\n",
       "      <th>2017-06-02 04:00:00+00:00</th>\n",
       "      <td>71.76</td>\n",
       "      <td>0.023680</td>\n",
       "    </tr>\n",
       "    <tr>\n",
       "      <th>2017-06-05 04:00:00+00:00</th>\n",
       "      <td>72.28</td>\n",
       "      <td>0.007246</td>\n",
       "    </tr>\n",
       "    <tr>\n",
       "      <th>2017-06-06 04:00:00+00:00</th>\n",
       "      <td>72.52</td>\n",
       "      <td>0.003320</td>\n",
       "    </tr>\n",
       "    <tr>\n",
       "      <th>2017-06-07 04:00:00+00:00</th>\n",
       "      <td>72.39</td>\n",
       "      <td>-0.001793</td>\n",
       "    </tr>\n",
       "    <tr>\n",
       "      <th>2017-06-08 04:00:00+00:00</th>\n",
       "      <td>71.95</td>\n",
       "      <td>-0.006078</td>\n",
       "    </tr>\n",
       "  </tbody>\n",
       "</table>\n",
       "</div>"
      ],
      "text/plain": [
       "                           close  Actual Returns\n",
       "timestamp                                       \n",
       "2017-06-02 04:00:00+00:00  71.76        0.023680\n",
       "2017-06-05 04:00:00+00:00  72.28        0.007246\n",
       "2017-06-06 04:00:00+00:00  72.52        0.003320\n",
       "2017-06-07 04:00:00+00:00  72.39       -0.001793\n",
       "2017-06-08 04:00:00+00:00  71.95       -0.006078"
      ]
     },
     "metadata": {},
     "output_type": "display_data"
    },
    {
     "data": {
      "text/html": [
       "<div>\n",
       "<style scoped>\n",
       "    .dataframe tbody tr th:only-of-type {\n",
       "        vertical-align: middle;\n",
       "    }\n",
       "\n",
       "    .dataframe tbody tr th {\n",
       "        vertical-align: top;\n",
       "    }\n",
       "\n",
       "    .dataframe thead th {\n",
       "        text-align: right;\n",
       "    }\n",
       "</style>\n",
       "<table border=\"1\" class=\"dataframe\">\n",
       "  <thead>\n",
       "    <tr style=\"text-align: right;\">\n",
       "      <th></th>\n",
       "      <th>close</th>\n",
       "      <th>Actual Returns</th>\n",
       "    </tr>\n",
       "    <tr>\n",
       "      <th>timestamp</th>\n",
       "      <th></th>\n",
       "      <th></th>\n",
       "    </tr>\n",
       "  </thead>\n",
       "  <tbody>\n",
       "    <tr>\n",
       "      <th>2022-05-25 04:00:00+00:00</th>\n",
       "      <td>262.52</td>\n",
       "      <td>0.011170</td>\n",
       "    </tr>\n",
       "    <tr>\n",
       "      <th>2022-05-26 04:00:00+00:00</th>\n",
       "      <td>265.90</td>\n",
       "      <td>0.012875</td>\n",
       "    </tr>\n",
       "    <tr>\n",
       "      <th>2022-05-27 04:00:00+00:00</th>\n",
       "      <td>273.24</td>\n",
       "      <td>0.027604</td>\n",
       "    </tr>\n",
       "    <tr>\n",
       "      <th>2022-05-31 04:00:00+00:00</th>\n",
       "      <td>271.87</td>\n",
       "      <td>-0.005014</td>\n",
       "    </tr>\n",
       "    <tr>\n",
       "      <th>2022-06-01 04:00:00+00:00</th>\n",
       "      <td>272.42</td>\n",
       "      <td>0.002023</td>\n",
       "    </tr>\n",
       "  </tbody>\n",
       "</table>\n",
       "</div>"
      ],
      "text/plain": [
       "                            close  Actual Returns\n",
       "timestamp                                        \n",
       "2022-05-25 04:00:00+00:00  262.52        0.011170\n",
       "2022-05-26 04:00:00+00:00  265.90        0.012875\n",
       "2022-05-27 04:00:00+00:00  273.24        0.027604\n",
       "2022-05-31 04:00:00+00:00  271.87       -0.005014\n",
       "2022-06-01 04:00:00+00:00  272.42        0.002023"
      ]
     },
     "metadata": {},
     "output_type": "display_data"
    }
   ],
   "source": [
    "# Create a new df filtering the index and close columns\n",
    "msft_signals_df = msft_df.loc[:, [\"close\"]]\n",
    "\n",
    "# Create a column for the daily returns\n",
    "msft_signals_df[\"Actual Returns\"] = msft_df[\"close\"].pct_change()\n",
    "\n",
    "# Drop all NaN values from the DataFrame\n",
    "msft_signals_df = msft_signals_df.dropna()\n",
    "\n",
    "# Show signals df\n",
    "display(msft_signals_df.head())\n",
    "display(msft_signals_df.tail())"
   ]
  },
  {
   "cell_type": "code",
   "execution_count": 313,
   "metadata": {},
   "outputs": [
    {
     "data": {
      "text/html": [
       "<div>\n",
       "<style scoped>\n",
       "    .dataframe tbody tr th:only-of-type {\n",
       "        vertical-align: middle;\n",
       "    }\n",
       "\n",
       "    .dataframe tbody tr th {\n",
       "        vertical-align: top;\n",
       "    }\n",
       "\n",
       "    .dataframe thead th {\n",
       "        text-align: right;\n",
       "    }\n",
       "</style>\n",
       "<table border=\"1\" class=\"dataframe\">\n",
       "  <thead>\n",
       "    <tr style=\"text-align: right;\">\n",
       "      <th></th>\n",
       "      <th>close</th>\n",
       "      <th>Actual Returns</th>\n",
       "      <th>SMA_short</th>\n",
       "      <th>SMA_long</th>\n",
       "    </tr>\n",
       "    <tr>\n",
       "      <th>timestamp</th>\n",
       "      <th></th>\n",
       "      <th></th>\n",
       "      <th></th>\n",
       "      <th></th>\n",
       "    </tr>\n",
       "  </thead>\n",
       "  <tbody>\n",
       "    <tr>\n",
       "      <th>2017-08-11 04:00:00+00:00</th>\n",
       "      <td>72.50</td>\n",
       "      <td>0.015264</td>\n",
       "      <td>73.0250</td>\n",
       "      <td>71.4550</td>\n",
       "    </tr>\n",
       "    <tr>\n",
       "      <th>2017-08-14 04:00:00+00:00</th>\n",
       "      <td>73.59</td>\n",
       "      <td>0.015034</td>\n",
       "      <td>73.0370</td>\n",
       "      <td>71.4916</td>\n",
       "    </tr>\n",
       "    <tr>\n",
       "      <th>2017-08-15 04:00:00+00:00</th>\n",
       "      <td>73.22</td>\n",
       "      <td>-0.005028</td>\n",
       "      <td>73.0330</td>\n",
       "      <td>71.5104</td>\n",
       "    </tr>\n",
       "    <tr>\n",
       "      <th>2017-08-16 04:00:00+00:00</th>\n",
       "      <td>73.65</td>\n",
       "      <td>0.005873</td>\n",
       "      <td>73.0225</td>\n",
       "      <td>71.5330</td>\n",
       "    </tr>\n",
       "    <tr>\n",
       "      <th>2017-08-17 04:00:00+00:00</th>\n",
       "      <td>72.40</td>\n",
       "      <td>-0.016972</td>\n",
       "      <td>72.9315</td>\n",
       "      <td>71.5332</td>\n",
       "    </tr>\n",
       "  </tbody>\n",
       "</table>\n",
       "</div>"
      ],
      "text/plain": [
       "                           close  Actual Returns  SMA_short  SMA_long\n",
       "timestamp                                                            \n",
       "2017-08-11 04:00:00+00:00  72.50        0.015264    73.0250   71.4550\n",
       "2017-08-14 04:00:00+00:00  73.59        0.015034    73.0370   71.4916\n",
       "2017-08-15 04:00:00+00:00  73.22       -0.005028    73.0330   71.5104\n",
       "2017-08-16 04:00:00+00:00  73.65        0.005873    73.0225   71.5330\n",
       "2017-08-17 04:00:00+00:00  72.40       -0.016972    72.9315   71.5332"
      ]
     },
     "execution_count": 313,
     "metadata": {},
     "output_type": "execute_result"
    }
   ],
   "source": [
    "# set the windows for moving averages\n",
    "short_window= 20\n",
    "long_window= 50\n",
    "\n",
    "# Generate the short and long simple moving averages\n",
    "msft_signals_df[\"SMA_short\"] = msft_signals_df[\"close\"].rolling(window=short_window).mean()\n",
    "msft_signals_df[\"SMA_long\"] = msft_signals_df[\"close\"].rolling(window=long_window).mean()\n",
    "msft_signals_df = msft_signals_df.dropna()\n",
    "msft_signals_df.head()\n"
   ]
  },
  {
   "cell_type": "code",
   "execution_count": 314,
   "metadata": {},
   "outputs": [
    {
     "data": {
      "text/plain": [
       "<AxesSubplot:xlabel='timestamp'>"
      ]
     },
     "execution_count": 314,
     "metadata": {},
     "output_type": "execute_result"
    },
    {
     "data": {
      "image/png": "[encoded data removed]",
      "text/plain": [
       "<Figure size 1440x360 with 1 Axes>"
      ]
     },
     "metadata": {
      "needs_background": "light"
     },
     "output_type": "display_data"
    }
   ],
   "source": [
    "# Plot the SMA's with the historical close price\n",
    "# Do these indicators work for our algorithm? What else will work?\n",
    "msft_signals_df[[\"close\", \"SMA_short\", \"SMA_long\"]].iloc[300:320].plot(figsize=(20,5))"
   ]
  },
  {
   "cell_type": "code",
   "execution_count": 315,
   "metadata": {},
   "outputs": [],
   "source": [
    "# EWMA indicators\n",
    "short_span = 8\n",
    "long_span = 20\n",
    "smooth_span = 4\n",
    "msft_ewma_df = msft_df.loc[:, [\"close\"]]\n",
    "msft_ewma_df['8EWMA'] = msft_ewma_df['close'].ewm(span= short_span).mean()\n",
    "msft_ewma_df['20EWMA'] = msft_ewma_df['close'].ewm(span= long_span).mean()"
   ]
  },
  {
   "cell_type": "code",
   "execution_count": 316,
   "metadata": {},
   "outputs": [
    {
     "data": {
      "text/plain": [
       "<AxesSubplot:xlabel='timestamp'>"
      ]
     },
     "execution_count": 316,
     "metadata": {},
     "output_type": "execute_result"
    },
    {
     "data": {
      "image/png": "[encoded data removed]",
      "text/plain": [
       "<Figure size 1440x360 with 1 Axes>"
      ]
     },
     "metadata": {
      "needs_background": "light"
     },
     "output_type": "display_data"
    }
   ],
   "source": [
    "# Plot the EWMA indicators\n",
    "msft_ewma_df[[\"close\", \"8EWMA\", \"20EWMA\"]].iloc[300:355].plot(figsize=(20,5))"
   ]
  },
  {
   "cell_type": "code",
   "execution_count": 317,
   "metadata": {},
   "outputs": [],
   "source": [
    "# It appears that the indicators have potential for a signal when close price surpasses both indicators. This signal is much stronger for\n",
    "# the uptrends than the downtrends (based on visuals of historical pricing data). Will need to add MACD indicator to help with signal confirmation.\n",
    "# Next steps: decide what indicators we will use, generate the signals"
   ]
  },
  {
   "cell_type": "code",
   "execution_count": 318,
   "metadata": {},
   "outputs": [],
   "source": [
    "msft_ewma_df['Signal'] = 0.0\n",
    "msft_ewma_df['Signal'][short_window:] = np.where(msft_ewma_df['close'][short_window:] > msft_ewma_df['8EWMA'][short_window:], 1.0, 0.0\n",
    ")\n"
   ]
  },
  {
   "cell_type": "code",
   "execution_count": 319,
   "metadata": {},
   "outputs": [
    {
     "data": {
      "text/html": [
       "<div>\n",
       "<style scoped>\n",
       "    .dataframe tbody tr th:only-of-type {\n",
       "        vertical-align: middle;\n",
       "    }\n",
       "\n",
       "    .dataframe tbody tr th {\n",
       "        vertical-align: top;\n",
       "    }\n",
       "\n",
       "    .dataframe thead th {\n",
       "        text-align: right;\n",
       "    }\n",
       "</style>\n",
       "<table border=\"1\" class=\"dataframe\">\n",
       "  <thead>\n",
       "    <tr style=\"text-align: right;\">\n",
       "      <th></th>\n",
       "      <th>close</th>\n",
       "      <th>8EWMA</th>\n",
       "      <th>20EWMA</th>\n",
       "      <th>Signal</th>\n",
       "    </tr>\n",
       "    <tr>\n",
       "      <th>timestamp</th>\n",
       "      <th></th>\n",
       "      <th></th>\n",
       "      <th></th>\n",
       "      <th></th>\n",
       "    </tr>\n",
       "  </thead>\n",
       "  <tbody>\n",
       "    <tr>\n",
       "      <th>2022-05-25 04:00:00+00:00</th>\n",
       "      <td>262.52</td>\n",
       "      <td>260.173906</td>\n",
       "      <td>266.336119</td>\n",
       "      <td>1.0</td>\n",
       "    </tr>\n",
       "    <tr>\n",
       "      <th>2022-05-26 04:00:00+00:00</th>\n",
       "      <td>265.90</td>\n",
       "      <td>261.446371</td>\n",
       "      <td>266.294584</td>\n",
       "      <td>1.0</td>\n",
       "    </tr>\n",
       "    <tr>\n",
       "      <th>2022-05-27 04:00:00+00:00</th>\n",
       "      <td>273.24</td>\n",
       "      <td>264.067178</td>\n",
       "      <td>266.956052</td>\n",
       "      <td>1.0</td>\n",
       "    </tr>\n",
       "    <tr>\n",
       "      <th>2022-05-31 04:00:00+00:00</th>\n",
       "      <td>271.87</td>\n",
       "      <td>265.801138</td>\n",
       "      <td>267.424047</td>\n",
       "      <td>1.0</td>\n",
       "    </tr>\n",
       "    <tr>\n",
       "      <th>2022-06-01 04:00:00+00:00</th>\n",
       "      <td>272.42</td>\n",
       "      <td>267.271996</td>\n",
       "      <td>267.899852</td>\n",
       "      <td>1.0</td>\n",
       "    </tr>\n",
       "  </tbody>\n",
       "</table>\n",
       "</div>"
      ],
      "text/plain": [
       "                            close       8EWMA      20EWMA  Signal\n",
       "timestamp                                                        \n",
       "2022-05-25 04:00:00+00:00  262.52  260.173906  266.336119     1.0\n",
       "2022-05-26 04:00:00+00:00  265.90  261.446371  266.294584     1.0\n",
       "2022-05-27 04:00:00+00:00  273.24  264.067178  266.956052     1.0\n",
       "2022-05-31 04:00:00+00:00  271.87  265.801138  267.424047     1.0\n",
       "2022-06-01 04:00:00+00:00  272.42  267.271996  267.899852     1.0"
      ]
     },
     "execution_count": 319,
     "metadata": {},
     "output_type": "execute_result"
    }
   ],
   "source": [
    "msft_ewma_df.tail()"
   ]
  },
  {
   "cell_type": "code",
   "execution_count": 322,
   "metadata": {},
   "outputs": [
    {
     "data": {
      "text/html": [
       "<div>\n",
       "<style scoped>\n",
       "    .dataframe tbody tr th:only-of-type {\n",
       "        vertical-align: middle;\n",
       "    }\n",
       "\n",
       "    .dataframe tbody tr th {\n",
       "        vertical-align: top;\n",
       "    }\n",
       "\n",
       "    .dataframe thead th {\n",
       "        text-align: right;\n",
       "    }\n",
       "</style>\n",
       "<table border=\"1\" class=\"dataframe\">\n",
       "  <thead>\n",
       "    <tr style=\"text-align: right;\">\n",
       "      <th></th>\n",
       "      <th>macd</th>\n",
       "      <th>signal</th>\n",
       "      <th>hist</th>\n",
       "    </tr>\n",
       "    <tr>\n",
       "      <th>timestamp</th>\n",
       "      <th></th>\n",
       "      <th></th>\n",
       "      <th></th>\n",
       "    </tr>\n",
       "  </thead>\n",
       "  <tbody>\n",
       "    <tr>\n",
       "      <th>2017-06-01 04:00:00+00:00</th>\n",
       "      <td>0.000000</td>\n",
       "      <td>0.000000</td>\n",
       "      <td>0.000000</td>\n",
       "    </tr>\n",
       "    <tr>\n",
       "      <th>2017-06-02 04:00:00+00:00</th>\n",
       "      <td>0.210794</td>\n",
       "      <td>0.084317</td>\n",
       "      <td>0.126476</td>\n",
       "    </tr>\n",
       "    <tr>\n",
       "      <th>2017-06-05 04:00:00+00:00</th>\n",
       "      <td>0.420700</td>\n",
       "      <td>0.218871</td>\n",
       "      <td>0.201830</td>\n",
       "    </tr>\n",
       "    <tr>\n",
       "      <th>2017-06-06 04:00:00+00:00</th>\n",
       "      <td>0.589985</td>\n",
       "      <td>0.367316</td>\n",
       "      <td>0.222669</td>\n",
       "    </tr>\n",
       "    <tr>\n",
       "      <th>2017-06-07 04:00:00+00:00</th>\n",
       "      <td>0.680117</td>\n",
       "      <td>0.492437</td>\n",
       "      <td>0.187680</td>\n",
       "    </tr>\n",
       "  </tbody>\n",
       "</table>\n",
       "</div>"
      ],
      "text/plain": [
       "                               macd    signal      hist\n",
       "timestamp                                              \n",
       "2017-06-01 04:00:00+00:00  0.000000  0.000000  0.000000\n",
       "2017-06-02 04:00:00+00:00  0.210794  0.084317  0.126476\n",
       "2017-06-05 04:00:00+00:00  0.420700  0.218871  0.201830\n",
       "2017-06-06 04:00:00+00:00  0.589985  0.367316  0.222669\n",
       "2017-06-07 04:00:00+00:00  0.680117  0.492437  0.187680"
      ]
     },
     "execution_count": 322,
     "metadata": {},
     "output_type": "execute_result"
    }
   ],
   "source": []
  },
  {
   "cell_type": "code",
   "execution_count": 323,
   "metadata": {},
   "outputs": [],
   "source": []
  }
 ],
 "metadata": {
  "interpreter": {
   "hash": "5563a2e2ffb76633fbe54362a8cfe277fce27c23641f3179413f3afb58cdebb2"
  },
  "kernelspec": {
   "display_name": "Python 3.7.11 ('base')",
   "language": "python",
   "name": "python3"
  },
  "language_info": {
   "codemirror_mode": {
    "name": "ipython",
    "version": 3
   },
   "file_extension": ".py",
   "mimetype": "text/x-python",
   "name": "python",
   "nbconvert_exporter": "python",
   "pygments_lexer": "ipython3",
   "version": "3.7.11"
  },
  "orig_nbformat": 4
 },
 "nbformat": 4,
 "nbformat_minor": 2
}
