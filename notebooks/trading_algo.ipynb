{
 "cells": [
  {
   "cell_type": "code",
   "execution_count": 25,
   "metadata": {},
   "outputs": [],
   "source": [
    "import numpy as np\n",
    "import pandas as pd\n",
    "import tensorflow as tf\n",
    "from sklearn.model_selection import train_test_split\n",
    "from sklearn.preprocessing import StandardScaler\n",
    "from sklearn.metrics import confusion_matrix, accuracy_score, classification_report\n",
    "from sklearn.model_selection import train_test_split"
   ]
  },
  {
   "cell_type": "code",
   "execution_count": 26,
   "metadata": {},
   "outputs": [],
   "source": [
    "\n",
    "def read_data(filename):\n",
    "    data = pd.read_csv(filename)\n",
    "    data[\"timestamp\"] = pd.to_datetime(data[\"timestamp\"]).dt.date\n",
    "    data = data.set_index(\"timestamp\")\n",
    "    return data\n"
   ]
  },
  {
   "cell_type": "code",
   "execution_count": 27,
   "metadata": {},
   "outputs": [],
   "source": [
    "data = read_data(\"../data/TSLA_daily_EWMA.csv\")"
   ]
  },
  {
   "cell_type": "code",
   "execution_count": 28,
   "metadata": {},
   "outputs": [],
   "source": [
    "def xy_matrix(xcolumn1, xcolumn2, ycolumn, data):\n",
    "    X = data[[xcolumn1, xcolumn2]]\n",
    "    X = X.drop(X.index[1258])\n",
    "    y = data[[ycolumn]].shift(1)\n",
    "    y = y.dropna()\n",
    "    return X, y"
   ]
  },
  {
   "cell_type": "code",
   "execution_count": 29,
   "metadata": {},
   "outputs": [
    {
     "data": {
      "text/plain": [
       "(                 8EWMA      20EWMA\n",
       " timestamp                         \n",
       " 2017-06-02  339.850000  339.850000\n",
       " 2017-06-05  344.051875  343.771750\n",
       " 2017-06-06  347.744352  347.105229\n",
       " 2017-06-07  351.917053  350.726710\n",
       " 2017-06-08  357.534316  355.388755\n",
       " ...                ...         ...\n",
       " 2022-05-24  698.958569  777.746593\n",
       " 2022-05-25  690.034443  766.418346\n",
       " 2022-05-26  693.966789  760.828980\n",
       " 2022-05-27  708.558614  760.714791\n",
       " 2022-05-31  719.603366  760.481001\n",
       " \n",
       " [1258 rows x 2 columns],\n",
       "             Signal\n",
       " timestamp         \n",
       " 2017-06-05     0.0\n",
       " 2017-06-06     1.0\n",
       " 2017-06-07     1.0\n",
       " 2017-06-08     1.0\n",
       " 2017-06-09     1.0\n",
       " ...            ...\n",
       " 2022-05-25     0.0\n",
       " 2022-05-26     0.0\n",
       " 2022-05-27     0.0\n",
       " 2022-05-31     0.0\n",
       " 2022-06-01     0.0\n",
       " \n",
       " [1258 rows x 1 columns])"
      ]
     },
     "execution_count": 29,
     "metadata": {},
     "output_type": "execute_result"
    }
   ],
   "source": [
    "xy_matrix('8EWMA', '20EWMA', 'Signal', data)"
   ]
  },
  {
   "cell_type": "code",
   "execution_count": 30,
   "metadata": {},
   "outputs": [],
   "source": [
    "def split_scalling(X,y):\n",
    "    X_train,X_test,y_train,y_test = train_test_split(X,y,test_size=0.2,random_state=1)\n",
    "    sc = StandardScaler()\n",
    "    X_train_scaled = sc.fit_transform(X_train)\n",
    "    X_test_scaled = sc.transform(X_test)\n",
    "\n",
    "    ann = tf.keras.models.Sequential()\n",
    "    ann.add(tf.keras.layers.Dense(units=100,activation=\"sigmoid\"))\n",
    "    ann.add(tf.keras.layers.Dense(units=50,activation=\"sigmoid\"))\n",
    "    ann.add(tf.keras.layers.Dense(units=40,activation=\"tanh\"))\n",
    "    ann.add(tf.keras.layers.Dense(units=1, activation=\"sigmoid\"))\n",
    "    ann.compile(optimizer=\"adam\",loss=\"binary_crossentropy\",metrics=['accuracy'])\n",
    "    ann.fit(X_train_scaled,y_train,batch_size=32,epochs = 500)\n",
    "    ann_loss, ann_accuracy = ann.evaluate(X_test_scaled, y_test, verbose=2)\n",
    "    predictions = ann.predict(X_test_scaled)"
   ]
  },
  {
   "cell_type": "code",
   "execution_count": 31,
   "metadata": {},
   "outputs": [
    {
     "ename": "NameError",
     "evalue": "name 'predictions' is not defined",
     "output_type": "error",
     "traceback": [
      "\u001b[1;31m---------------------------------------------------------------------------\u001b[0m",
      "\u001b[1;31mNameError\u001b[0m                                 Traceback (most recent call last)",
      "\u001b[1;32mc:\\Users\\tempe\\OneDrive\\Desktop\\Project2\\Project_2\\notebooks\\trading_algo.ipynb Cell 7'\u001b[0m in \u001b[0;36m<cell line: 1>\u001b[1;34m()\u001b[0m\n\u001b[1;32m----> <a href='vscode-notebook-cell:/c%3A/Users/tempe/OneDrive/Desktop/Project2/Project_2/notebooks/trading_algo.ipynb#ch0000008?line=0'>1</a>\u001b[0m predictions_df \u001b[39m=\u001b[39m pd\u001b[39m.\u001b[39mDataFrame(predictions)\n",
      "\u001b[1;31mNameError\u001b[0m: name 'predictions' is not defined"
     ]
    }
   ],
   "source": [
    "predictions_df = pd.DataFrame(predictions)"
   ]
  },
  {
   "cell_type": "code",
   "execution_count": null,
   "metadata": {},
   "outputs": [],
   "source": []
  }
 ],
 "metadata": {
  "interpreter": {
   "hash": "ec1db613bd433334d4526401b52388526e3088498c79e7df5f78f6c21e8ddf15"
  },
  "kernelspec": {
   "display_name": "Python 3.8.8 ('base')",
   "language": "python",
   "name": "python3"
  },
  "language_info": {
   "codemirror_mode": {
    "name": "ipython",
    "version": 3
   },
   "file_extension": ".py",
   "mimetype": "text/x-python",
   "name": "python",
   "nbconvert_exporter": "python",
   "pygments_lexer": "ipython3",
   "version": "3.8.8"
  },
  "orig_nbformat": 4
 },
 "nbformat": 4,
 "nbformat_minor": 2
}
