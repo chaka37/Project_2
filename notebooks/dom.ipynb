{
 "cells": [
  {
   "cell_type": "code",
   "execution_count": 1,
   "metadata": {},
   "outputs": [],
   "source": [
    "# Import the required libraries\n",
    "\n",
    "import os\n",
    "import pandas as pd\n",
    "import alpaca_trade_api as tradeapi\n",
    "import matplotlib.pyplot as plt\n",
    "from dotenv import load_dotenv\n",
    "from alpaca_trade_api.rest import REST, TimeFrame\n",
    "\n",
    "\n"
   ]
  },
  {
   "cell_type": "code",
   "execution_count": 2,
   "metadata": {},
   "outputs": [
    {
     "data": {
      "text/plain": [
       "True"
      ]
     },
     "execution_count": 2,
     "metadata": {},
     "output_type": "execute_result"
    }
   ],
   "source": [
    "# Load .env environment variables\n",
    "load_dotenv()"
   ]
  },
  {
   "cell_type": "code",
   "execution_count": 3,
   "metadata": {},
   "outputs": [],
   "source": [
    "# API Info for fetching data, portfolio, etc. from Alpaca\n",
    "BASE_URL = \"https://paper-api.alpaca.markets\"\n",
    "ALPACA_API_KEY = os.getenv(\"ALPACA_API_KEY\")\n",
    "ALPACA_SECRET_KEY = os.getenv(\"ALPACA_SECRET_KEY\")"
   ]
  },
  {
   "cell_type": "code",
   "execution_count": 4,
   "metadata": {},
   "outputs": [],
   "source": [
    "# Create the Alpaca API object\n",
    "\n",
    "api = tradeapi.REST(key_id=ALPACA_API_KEY, secret_key=ALPACA_SECRET_KEY, \n",
    "                    base_url=BASE_URL, api_version='v2')"
   ]
  },
  {
   "cell_type": "code",
   "execution_count": 5,
   "metadata": {},
   "outputs": [],
   "source": [
    "# Format current date as ISO format\n",
    "today = pd.Timestamp(\"2022-06-03\", tz=\"America/New_York\").isoformat()"
   ]
  },
  {
   "cell_type": "code",
   "execution_count": 6,
   "metadata": {},
   "outputs": [],
   "source": [
    "tickers = ['MSFT']"
   ]
  },
  {
   "cell_type": "code",
   "execution_count": 7,
   "metadata": {},
   "outputs": [],
   "source": [
    "timeframe = \"1D\""
   ]
  },
  {
   "cell_type": "code",
   "execution_count": 8,
   "metadata": {},
   "outputs": [
    {
     "data": {
      "text/html": [
       "<div>\n",
       "<style scoped>\n",
       "    .dataframe tbody tr th:only-of-type {\n",
       "        vertical-align: middle;\n",
       "    }\n",
       "\n",
       "    .dataframe tbody tr th {\n",
       "        vertical-align: top;\n",
       "    }\n",
       "\n",
       "    .dataframe thead th {\n",
       "        text-align: right;\n",
       "    }\n",
       "</style>\n",
       "<table border=\"1\" class=\"dataframe\">\n",
       "  <thead>\n",
       "    <tr style=\"text-align: right;\">\n",
       "      <th></th>\n",
       "      <th>open</th>\n",
       "      <th>high</th>\n",
       "      <th>low</th>\n",
       "      <th>close</th>\n",
       "      <th>volume</th>\n",
       "      <th>trade_count</th>\n",
       "      <th>vwap</th>\n",
       "      <th>symbol</th>\n",
       "    </tr>\n",
       "    <tr>\n",
       "      <th>timestamp</th>\n",
       "      <th></th>\n",
       "      <th></th>\n",
       "      <th></th>\n",
       "      <th></th>\n",
       "      <th></th>\n",
       "      <th></th>\n",
       "      <th></th>\n",
       "      <th></th>\n",
       "    </tr>\n",
       "  </thead>\n",
       "  <tbody>\n",
       "    <tr>\n",
       "      <th>2017-01-06 05:00:00+00:00</th>\n",
       "      <td>62.41</td>\n",
       "      <td>63.15</td>\n",
       "      <td>62.04</td>\n",
       "      <td>62.84</td>\n",
       "      <td>20154615</td>\n",
       "      <td>111920</td>\n",
       "      <td>62.791643</td>\n",
       "      <td>MSFT</td>\n",
       "    </tr>\n",
       "    <tr>\n",
       "      <th>2017-01-09 05:00:00+00:00</th>\n",
       "      <td>62.76</td>\n",
       "      <td>63.08</td>\n",
       "      <td>62.54</td>\n",
       "      <td>62.64</td>\n",
       "      <td>20382734</td>\n",
       "      <td>98824</td>\n",
       "      <td>62.741847</td>\n",
       "      <td>MSFT</td>\n",
       "    </tr>\n",
       "    <tr>\n",
       "      <th>2017-01-10 05:00:00+00:00</th>\n",
       "      <td>62.61</td>\n",
       "      <td>63.07</td>\n",
       "      <td>62.28</td>\n",
       "      <td>62.62</td>\n",
       "      <td>18594565</td>\n",
       "      <td>99859</td>\n",
       "      <td>62.676103</td>\n",
       "      <td>MSFT</td>\n",
       "    </tr>\n",
       "    <tr>\n",
       "      <th>2017-01-11 05:00:00+00:00</th>\n",
       "      <td>62.61</td>\n",
       "      <td>63.23</td>\n",
       "      <td>62.43</td>\n",
       "      <td>63.19</td>\n",
       "      <td>21517335</td>\n",
       "      <td>124904</td>\n",
       "      <td>63.020643</td>\n",
       "      <td>MSFT</td>\n",
       "    </tr>\n",
       "    <tr>\n",
       "      <th>2017-01-12 05:00:00+00:00</th>\n",
       "      <td>63.06</td>\n",
       "      <td>63.40</td>\n",
       "      <td>61.95</td>\n",
       "      <td>62.61</td>\n",
       "      <td>20968328</td>\n",
       "      <td>119370</td>\n",
       "      <td>62.359679</td>\n",
       "      <td>MSFT</td>\n",
       "    </tr>\n",
       "  </tbody>\n",
       "</table>\n",
       "</div>"
      ],
      "text/plain": [
       "                            open   high    low  close    volume  trade_count  \\\n",
       "timestamp                                                                      \n",
       "2017-01-06 05:00:00+00:00  62.41  63.15  62.04  62.84  20154615       111920   \n",
       "2017-01-09 05:00:00+00:00  62.76  63.08  62.54  62.64  20382734        98824   \n",
       "2017-01-10 05:00:00+00:00  62.61  63.07  62.28  62.62  18594565        99859   \n",
       "2017-01-11 05:00:00+00:00  62.61  63.23  62.43  63.19  21517335       124904   \n",
       "2017-01-12 05:00:00+00:00  63.06  63.40  61.95  62.61  20968328       119370   \n",
       "\n",
       "                                vwap symbol  \n",
       "timestamp                                    \n",
       "2017-01-06 05:00:00+00:00  62.791643   MSFT  \n",
       "2017-01-09 05:00:00+00:00  62.741847   MSFT  \n",
       "2017-01-10 05:00:00+00:00  62.676103   MSFT  \n",
       "2017-01-11 05:00:00+00:00  63.020643   MSFT  \n",
       "2017-01-12 05:00:00+00:00  62.359679   MSFT  "
      ]
     },
     "execution_count": 8,
     "metadata": {},
     "output_type": "execute_result"
    }
   ],
   "source": [
    "# Fetch Apple data from last 5 years\n",
    "MSFT_DATA = api.get_bars(tickers, timeframe, start = '2017-01-06',\n",
    "    end = today).df\n",
    "\n",
    "# Preview Data\n",
    "MSFT_DATA.head()"
   ]
  },
  {
   "cell_type": "code",
   "execution_count": null,
   "metadata": {},
   "outputs": [],
   "source": []
  }
 ],
 "metadata": {
  "interpreter": {
   "hash": "f2d5c377ddb99c1428f5e55e91375d1523909d7f7dc08e1a38f5468989b40b95"
  },
  "kernelspec": {
   "display_name": "Python 3.9.7 ('base': conda)",
   "language": "python",
   "name": "python3"
  },
  "language_info": {
   "codemirror_mode": {
    "name": "ipython",
    "version": 3
   },
   "file_extension": ".py",
   "mimetype": "text/x-python",
   "name": "python",
   "nbconvert_exporter": "python",
   "pygments_lexer": "ipython3",
   "version": "3.9.7"
  },
  "orig_nbformat": 4
 },
 "nbformat": 4,
 "nbformat_minor": 2
}
