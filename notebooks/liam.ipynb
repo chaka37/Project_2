{
 "cells": [
  {
   "cell_type": "code",
   "execution_count": 90,
   "metadata": {},
   "outputs": [],
   "source": [
    "# Initial imports\n",
    "import os\n",
    "import requests\n",
    "import pandas as pd\n",
    "from dotenv import load_dotenv\n",
    "import alpaca_trade_api as tradeapi\n",
    "\n",
    "%matplotlib inline"
   ]
  },
  {
   "cell_type": "code",
   "execution_count": 91,
   "metadata": {},
   "outputs": [
    {
     "data": {
      "text/plain": [
       "True"
      ]
     },
     "execution_count": 91,
     "metadata": {},
     "output_type": "execute_result"
    }
   ],
   "source": [
    "# Load .env environment variables\n",
    "load_dotenv()"
   ]
  },
  {
   "cell_type": "code",
   "execution_count": 92,
   "metadata": {},
   "outputs": [],
   "source": [
    "# Set alpaca api key and secret \n",
    "# Set Alpaca API key and secret\n",
    "alpaca_api_key = os.getenv(\"ALPACA_API_KEY\")\n",
    "alpaca_secret_key = os.getenv(\"ALPACA_SECRET_KEY\")\n",
    "\n",
    "# Create the Alpaca API object\n",
    "alpaca = tradeapi.REST(\n",
    "    alpaca_api_key,\n",
    "    alpaca_secret_key,\n",
    "    api_version=\"v2\"\n",
    ")\n"
   ]
  },
  {
   "cell_type": "code",
   "execution_count": 93,
   "metadata": {},
   "outputs": [],
   "source": [
    "# Set the tickers\n",
    "microsoft = [\"MSFT\"]"
   ]
  },
  {
   "cell_type": "code",
   "execution_count": 94,
   "metadata": {},
   "outputs": [],
   "source": [
    "# Set timeframe to one day ('1D') for the Alpaca API\n",
    "timeframe = \"1D\""
   ]
  },
  {
   "cell_type": "code",
   "execution_count": 95,
   "metadata": {},
   "outputs": [],
   "source": [
    "# Format current date as ISO format\n",
    "today = pd.Timestamp(\"2022-06-01\", tz=\"America/New_York\").isoformat()"
   ]
  },
  {
   "cell_type": "code",
   "execution_count": 96,
   "metadata": {},
   "outputs": [
    {
     "data": {
      "text/html": [
       "<div>\n",
       "<style scoped>\n",
       "    .dataframe tbody tr th:only-of-type {\n",
       "        vertical-align: middle;\n",
       "    }\n",
       "\n",
       "    .dataframe tbody tr th {\n",
       "        vertical-align: top;\n",
       "    }\n",
       "\n",
       "    .dataframe thead th {\n",
       "        text-align: right;\n",
       "    }\n",
       "</style>\n",
       "<table border=\"1\" class=\"dataframe\">\n",
       "  <thead>\n",
       "    <tr style=\"text-align: right;\">\n",
       "      <th></th>\n",
       "      <th>open</th>\n",
       "      <th>high</th>\n",
       "      <th>low</th>\n",
       "      <th>close</th>\n",
       "      <th>volume</th>\n",
       "      <th>trade_count</th>\n",
       "      <th>vwap</th>\n",
       "      <th>symbol</th>\n",
       "    </tr>\n",
       "    <tr>\n",
       "      <th>timestamp</th>\n",
       "      <th></th>\n",
       "      <th></th>\n",
       "      <th></th>\n",
       "      <th></th>\n",
       "      <th></th>\n",
       "      <th></th>\n",
       "      <th></th>\n",
       "      <th></th>\n",
       "    </tr>\n",
       "  </thead>\n",
       "  <tbody>\n",
       "    <tr>\n",
       "      <th>2022-06-01 04:00:00+00:00</th>\n",
       "      <td>275</td>\n",
       "      <td>277.69</td>\n",
       "      <td>270.04</td>\n",
       "      <td>272.42</td>\n",
       "      <td>25108530</td>\n",
       "      <td>318649</td>\n",
       "      <td>273.328471</td>\n",
       "      <td>MSFT</td>\n",
       "    </tr>\n",
       "  </tbody>\n",
       "</table>\n",
       "</div>"
      ],
      "text/plain": [
       "                           open    high     low   close    volume  \\\n",
       "timestamp                                                           \n",
       "2022-06-01 04:00:00+00:00   275  277.69  270.04  272.42  25108530   \n",
       "\n",
       "                           trade_count        vwap symbol  \n",
       "timestamp                                                  \n",
       "2022-06-01 04:00:00+00:00       318649  273.328471   MSFT  "
      ]
     },
     "execution_count": 96,
     "metadata": {},
     "output_type": "execute_result"
    }
   ],
   "source": [
    "# Get current closing prices for MSFT\n",
    "df_microsoft = alpaca.get_bars(\n",
    "    microsoft,\n",
    "    timeframe,\n",
    "    start = today,\n",
    "    end = today\n",
    ").df\n",
    "\n",
    "# Display sample data\n",
    "df_microsoft"
   ]
  },
  {
   "cell_type": "code",
   "execution_count": 97,
   "metadata": {},
   "outputs": [],
   "source": [
    "# Format start and end dates as ISO format for five year period\n",
    "start = pd.Timestamp(\"2017-06-01\", tz=\"America/New_York\").isoformat()\n",
    "end = pd.Timestamp(\"2022-06-01\", tz=\"America/New_York\").isoformat()"
   ]
  },
  {
   "cell_type": "code",
   "execution_count": 100,
   "metadata": {},
   "outputs": [
    {
     "data": {
      "text/html": [
       "<div>\n",
       "<style scoped>\n",
       "    .dataframe tbody tr th:only-of-type {\n",
       "        vertical-align: middle;\n",
       "    }\n",
       "\n",
       "    .dataframe tbody tr th {\n",
       "        vertical-align: top;\n",
       "    }\n",
       "\n",
       "    .dataframe thead th {\n",
       "        text-align: right;\n",
       "    }\n",
       "</style>\n",
       "<table border=\"1\" class=\"dataframe\">\n",
       "  <thead>\n",
       "    <tr style=\"text-align: right;\">\n",
       "      <th></th>\n",
       "      <th>open</th>\n",
       "      <th>high</th>\n",
       "      <th>low</th>\n",
       "      <th>close</th>\n",
       "      <th>volume</th>\n",
       "      <th>symbol</th>\n",
       "    </tr>\n",
       "    <tr>\n",
       "      <th>timestamp</th>\n",
       "      <th></th>\n",
       "      <th></th>\n",
       "      <th></th>\n",
       "      <th></th>\n",
       "      <th></th>\n",
       "      <th></th>\n",
       "    </tr>\n",
       "  </thead>\n",
       "  <tbody>\n",
       "    <tr>\n",
       "      <th>2017-06-01 04:00:00+00:00</th>\n",
       "      <td>70.24</td>\n",
       "      <td>70.61</td>\n",
       "      <td>69.4510</td>\n",
       "      <td>70.10</td>\n",
       "      <td>21922908</td>\n",
       "      <td>MSFT</td>\n",
       "    </tr>\n",
       "    <tr>\n",
       "      <th>2017-06-02 04:00:00+00:00</th>\n",
       "      <td>70.44</td>\n",
       "      <td>71.86</td>\n",
       "      <td>70.2400</td>\n",
       "      <td>71.76</td>\n",
       "      <td>35470261</td>\n",
       "      <td>MSFT</td>\n",
       "    </tr>\n",
       "    <tr>\n",
       "      <th>2017-06-05 04:00:00+00:00</th>\n",
       "      <td>71.97</td>\n",
       "      <td>72.89</td>\n",
       "      <td>71.8100</td>\n",
       "      <td>72.28</td>\n",
       "      <td>33317996</td>\n",
       "      <td>MSFT</td>\n",
       "    </tr>\n",
       "    <tr>\n",
       "      <th>2017-06-06 04:00:00+00:00</th>\n",
       "      <td>72.30</td>\n",
       "      <td>72.62</td>\n",
       "      <td>72.2700</td>\n",
       "      <td>72.52</td>\n",
       "      <td>31511065</td>\n",
       "      <td>MSFT</td>\n",
       "    </tr>\n",
       "    <tr>\n",
       "      <th>2017-06-07 04:00:00+00:00</th>\n",
       "      <td>72.67</td>\n",
       "      <td>72.77</td>\n",
       "      <td>71.9500</td>\n",
       "      <td>72.39</td>\n",
       "      <td>22302769</td>\n",
       "      <td>MSFT</td>\n",
       "    </tr>\n",
       "    <tr>\n",
       "      <th>...</th>\n",
       "      <td>...</td>\n",
       "      <td>...</td>\n",
       "      <td>...</td>\n",
       "      <td>...</td>\n",
       "      <td>...</td>\n",
       "      <td>...</td>\n",
       "    </tr>\n",
       "    <tr>\n",
       "      <th>2022-05-25 04:00:00+00:00</th>\n",
       "      <td>258.36</td>\n",
       "      <td>264.58</td>\n",
       "      <td>257.1250</td>\n",
       "      <td>262.52</td>\n",
       "      <td>28402776</td>\n",
       "      <td>MSFT</td>\n",
       "    </tr>\n",
       "    <tr>\n",
       "      <th>2022-05-26 04:00:00+00:00</th>\n",
       "      <td>262.29</td>\n",
       "      <td>267.11</td>\n",
       "      <td>261.4294</td>\n",
       "      <td>265.90</td>\n",
       "      <td>24933202</td>\n",
       "      <td>MSFT</td>\n",
       "    </tr>\n",
       "    <tr>\n",
       "      <th>2022-05-27 04:00:00+00:00</th>\n",
       "      <td>268.51</td>\n",
       "      <td>273.34</td>\n",
       "      <td>267.5600</td>\n",
       "      <td>273.24</td>\n",
       "      <td>26809462</td>\n",
       "      <td>MSFT</td>\n",
       "    </tr>\n",
       "    <tr>\n",
       "      <th>2022-05-31 04:00:00+00:00</th>\n",
       "      <td>272.50</td>\n",
       "      <td>274.77</td>\n",
       "      <td>268.9300</td>\n",
       "      <td>271.87</td>\n",
       "      <td>37691020</td>\n",
       "      <td>MSFT</td>\n",
       "    </tr>\n",
       "    <tr>\n",
       "      <th>2022-06-01 04:00:00+00:00</th>\n",
       "      <td>275.00</td>\n",
       "      <td>277.69</td>\n",
       "      <td>270.0400</td>\n",
       "      <td>272.42</td>\n",
       "      <td>25108530</td>\n",
       "      <td>MSFT</td>\n",
       "    </tr>\n",
       "  </tbody>\n",
       "</table>\n",
       "<p>1260 rows × 6 columns</p>\n",
       "</div>"
      ],
      "text/plain": [
       "                             open    high       low   close    volume symbol\n",
       "timestamp                                                                   \n",
       "2017-06-01 04:00:00+00:00   70.24   70.61   69.4510   70.10  21922908   MSFT\n",
       "2017-06-02 04:00:00+00:00   70.44   71.86   70.2400   71.76  35470261   MSFT\n",
       "2017-06-05 04:00:00+00:00   71.97   72.89   71.8100   72.28  33317996   MSFT\n",
       "2017-06-06 04:00:00+00:00   72.30   72.62   72.2700   72.52  31511065   MSFT\n",
       "2017-06-07 04:00:00+00:00   72.67   72.77   71.9500   72.39  22302769   MSFT\n",
       "...                           ...     ...       ...     ...       ...    ...\n",
       "2022-05-25 04:00:00+00:00  258.36  264.58  257.1250  262.52  28402776   MSFT\n",
       "2022-05-26 04:00:00+00:00  262.29  267.11  261.4294  265.90  24933202   MSFT\n",
       "2022-05-27 04:00:00+00:00  268.51  273.34  267.5600  273.24  26809462   MSFT\n",
       "2022-05-31 04:00:00+00:00  272.50  274.77  268.9300  271.87  37691020   MSFT\n",
       "2022-06-01 04:00:00+00:00  275.00  277.69  270.0400  272.42  25108530   MSFT\n",
       "\n",
       "[1260 rows x 6 columns]"
      ]
     },
     "execution_count": 100,
     "metadata": {},
     "output_type": "execute_result"
    }
   ],
   "source": [
    "# Get closing prices for MSFT and TSLA from the five years\n",
    "df_microsoft_daily = alpaca.get_bars(\n",
    "    microsoft,\n",
    "    timeframe,\n",
    "    start = start,\n",
    "    end = end,\n",
    "    limit = 10000\n",
    ").df\n",
    "\n",
    "# Drop unneccesary columns\n",
    "df_microsoft_daily = df_microsoft_daily.drop([\"trade_count\", \"vwap\"], axis=1)\n",
    "# Display sample data\n",
    "df_microsoft_daily"
   ]
  },
  {
   "cell_type": "code",
   "execution_count": null,
   "metadata": {},
   "outputs": [],
   "source": [
    "# Reorganize the DataFrame\n",
    "# Separate ticker data\n",
    "#MSFT = df_portfolio_years[df_portfolio_years['symbol']=='MSFT'].drop('symbol', axis=1)\n",
    "#TSLA = df_portfolio_years[df_portfolio_years['symbol']=='TSLA'].drop('symbol', axis=1)\n",
    "# Concatenate the ticker DataFrames\n",
    "#df_portfolio_years = pd.concat([MSFT, TSLA],axis=1, keys=['MSFT','TSLA'])\n",
    "#df_portfolio_years"
   ]
  },
  {
   "cell_type": "code",
   "execution_count": null,
   "metadata": {},
   "outputs": [],
   "source": [
    "# For loop to input any stock to get alpaca stock data\n",
    "\n",
    "def get_company(ticker, start, end, tradeapi):\n",
    "    return alpaca.get_bars(\n",
    "        ticker,\n",
    "        TimeFrame.Day,\n",
    "        start,\n",
    "        end\n",
    "    ).df\n"
   ]
  },
  {
   "cell_type": "code",
   "execution_count": null,
   "metadata": {},
   "outputs": [],
   "source": []
  }
 ],
 "metadata": {
  "interpreter": {
   "hash": "678359480ad8a7efca1225379b8bb14447c6ea2e0c45638da110e14f6cf99dfb"
  },
  "kernelspec": {
   "display_name": "Python 3.7.11 ('alpacaenv')",
   "language": "python",
   "name": "python3"
  },
  "language_info": {
   "codemirror_mode": {
    "name": "ipython",
    "version": 3
   },
   "file_extension": ".py",
   "mimetype": "text/x-python",
   "name": "python",
   "nbconvert_exporter": "python",
   "pygments_lexer": "ipython3",
   "version": "3.7.11"
  },
  "orig_nbformat": 4
 },
 "nbformat": 4,
 "nbformat_minor": 2
}
